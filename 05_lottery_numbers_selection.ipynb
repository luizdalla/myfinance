{
  "nbformat": 4,
  "nbformat_minor": 0,
  "metadata": {
    "colab": {
      "provenance": [],
      "authorship_tag": "ABX9TyO2BS1I0cEe4qiyMTu8GVWy",
      "include_colab_link": true
    },
    "kernelspec": {
      "name": "python3",
      "display_name": "Python 3"
    },
    "language_info": {
      "name": "python"
    }
  },
  "cells": [
    {
      "cell_type": "markdown",
      "metadata": {
        "id": "view-in-github",
        "colab_type": "text"
      },
      "source": [
        "<a href=\"https://colab.research.google.com/github/luizdalla/myfinance/blob/main/05_lottery_numbers_selection.ipynb\" target=\"_parent\"><img src=\"https://colab.research.google.com/assets/colab-badge.svg\" alt=\"Open In Colab\"/></a>"
      ]
    },
    {
      "cell_type": "markdown",
      "source": [
        "# Lottery - (Mega Sena)"
      ],
      "metadata": {
        "id": "W2IDG48PLB6-"
      }
    },
    {
      "cell_type": "markdown",
      "source": [
        "# Choose 6 numbers between 1 and 60 per game"
      ],
      "metadata": {
        "id": "e78tU3NMMkRt"
      }
    },
    {
      "cell_type": "code",
      "source": [
        "import numpy as np\n",
        "\n",
        "# Number of games\n",
        "NG = 10\n",
        "\n",
        "# Quantity of numbers to play in each game\n",
        "\n",
        "NS = 6\n",
        "for i in range(NG):\n",
        "    numbers = []\n",
        "    while len(numbers) < NS:\n",
        "        r = np.random.randint(1,61)\n",
        "        if r not in numbers: numbers.append(r)\n",
        "    print(sorted(numbers))"
      ],
      "metadata": {
        "colab": {
          "base_uri": "https://localhost:8080/"
        },
        "id": "528ruW06LGqj",
        "outputId": "ea8952a8-3dff-48b0-db0f-d250d4f5ecfa"
      },
      "execution_count": 11,
      "outputs": [
        {
          "output_type": "stream",
          "name": "stdout",
          "text": [
            "[18, 27, 28, 31, 45, 56]\n",
            "[7, 24, 29, 42, 55, 60]\n",
            "[8, 21, 25, 28, 30, 47]\n",
            "[13, 15, 32, 36, 42, 60]\n",
            "[3, 18, 31, 48, 55, 58]\n",
            "[1, 2, 9, 21, 30, 34]\n",
            "[2, 18, 26, 34, 49, 60]\n",
            "[7, 10, 12, 33, 42, 46]\n",
            "[15, 18, 24, 40, 49, 51]\n",
            "[2, 8, 9, 11, 46, 47]\n"
          ]
        }
      ]
    }
  ]
}